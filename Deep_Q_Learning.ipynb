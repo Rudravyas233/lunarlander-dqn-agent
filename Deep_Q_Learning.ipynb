{
  "nbformat": 4,
  "nbformat_minor": 0,
  "metadata": {
    "colab": {
      "provenance": []
    },
    "kernelspec": {
      "name": "python3",
      "display_name": "Python 3"
    },
    "language_info": {
      "name": "python"
    }
  },
  "cells": [
    {
      "cell_type": "markdown",
      "source": [
        "## Installing Gymnasium"
      ],
      "metadata": {
        "id": "IIVdxfORzEZk"
      }
    },
    {
      "cell_type": "code",
      "source": [
        "!pip install gymnasium\n",
        "!pip install \"gymnasium[atari, accept-rom-licence]\"\n",
        "!apt-get install -y swig\n",
        "!pip install gymnasium[box2d]"
      ],
      "metadata": {
        "colab": {
          "base_uri": "https://localhost:8080/"
        },
        "id": "At-IdtOtzEIB",
        "outputId": "eaa413df-5de2-49f3-a914-913aa67b0bc7"
      },
      "execution_count": null,
      "outputs": [
        {
          "output_type": "stream",
          "name": "stdout",
          "text": [
            "Collecting gymnasium\n",
            "  Downloading gymnasium-0.29.1-py3-none-any.whl (953 kB)\n",
            "\u001b[2K     \u001b[90m━━━━━━━━━━━━━━━━━━━━━━━━━━━━━━━━━━━━━━━━\u001b[0m \u001b[32m953.9/953.9 kB\u001b[0m \u001b[31m4.5 MB/s\u001b[0m eta \u001b[36m0:00:00\u001b[0m\n",
            "\u001b[?25hRequirement already satisfied: numpy>=1.21.0 in /usr/local/lib/python3.10/dist-packages (from gymnasium) (1.25.2)\n",
            "Requirement already satisfied: cloudpickle>=1.2.0 in /usr/local/lib/python3.10/dist-packages (from gymnasium) (2.2.1)\n",
            "Requirement already satisfied: typing-extensions>=4.3.0 in /usr/local/lib/python3.10/dist-packages (from gymnasium) (4.12.2)\n",
            "Collecting farama-notifications>=0.0.1 (from gymnasium)\n",
            "  Downloading Farama_Notifications-0.0.4-py3-none-any.whl (2.5 kB)\n",
            "Installing collected packages: farama-notifications, gymnasium\n",
            "Successfully installed farama-notifications-0.0.4 gymnasium-0.29.1\n",
            "Requirement already satisfied: gymnasium[accept-rom-licence,atari] in /usr/local/lib/python3.10/dist-packages (0.29.1)\n",
            "\u001b[33mWARNING: gymnasium 0.29.1 does not provide the extra 'accept-rom-licence'\u001b[0m\u001b[33m\n",
            "\u001b[0mRequirement already satisfied: numpy>=1.21.0 in /usr/local/lib/python3.10/dist-packages (from gymnasium[accept-rom-licence,atari]) (1.25.2)\n",
            "Requirement already satisfied: cloudpickle>=1.2.0 in /usr/local/lib/python3.10/dist-packages (from gymnasium[accept-rom-licence,atari]) (2.2.1)\n",
            "Requirement already satisfied: typing-extensions>=4.3.0 in /usr/local/lib/python3.10/dist-packages (from gymnasium[accept-rom-licence,atari]) (4.12.2)\n",
            "Requirement already satisfied: farama-notifications>=0.0.1 in /usr/local/lib/python3.10/dist-packages (from gymnasium[accept-rom-licence,atari]) (0.0.4)\n",
            "Collecting shimmy[atari]<1.0,>=0.1.0 (from gymnasium[accept-rom-licence,atari])\n",
            "  Downloading Shimmy-0.2.1-py3-none-any.whl (25 kB)\n",
            "Collecting ale-py~=0.8.1 (from shimmy[atari]<1.0,>=0.1.0->gymnasium[accept-rom-licence,atari])\n",
            "  Downloading ale_py-0.8.1-cp310-cp310-manylinux_2_17_x86_64.manylinux2014_x86_64.whl (1.7 MB)\n",
            "\u001b[2K     \u001b[90m━━━━━━━━━━━━━━━━━━━━━━━━━━━━━━━━━━━━━━━━\u001b[0m \u001b[32m1.7/1.7 MB\u001b[0m \u001b[31m7.3 MB/s\u001b[0m eta \u001b[36m0:00:00\u001b[0m\n",
            "\u001b[?25hRequirement already satisfied: importlib-resources in /usr/local/lib/python3.10/dist-packages (from ale-py~=0.8.1->shimmy[atari]<1.0,>=0.1.0->gymnasium[accept-rom-licence,atari]) (6.4.0)\n",
            "Installing collected packages: ale-py, shimmy\n",
            "Successfully installed ale-py-0.8.1 shimmy-0.2.1\n",
            "Reading package lists... Done\n",
            "Building dependency tree... Done\n",
            "Reading state information... Done\n",
            "The following additional packages will be installed:\n",
            "  swig4.0\n",
            "Suggested packages:\n",
            "  swig-doc swig-examples swig4.0-examples swig4.0-doc\n",
            "The following NEW packages will be installed:\n",
            "  swig swig4.0\n",
            "0 upgraded, 2 newly installed, 0 to remove and 45 not upgraded.\n",
            "Need to get 1,116 kB of archives.\n",
            "After this operation, 5,542 kB of additional disk space will be used.\n",
            "Get:1 http://archive.ubuntu.com/ubuntu jammy/universe amd64 swig4.0 amd64 4.0.2-1ubuntu1 [1,110 kB]\n",
            "Get:2 http://archive.ubuntu.com/ubuntu jammy/universe amd64 swig all 4.0.2-1ubuntu1 [5,632 B]\n",
            "Fetched 1,116 kB in 1s (1,135 kB/s)\n",
            "Selecting previously unselected package swig4.0.\n",
            "(Reading database ... 121925 files and directories currently installed.)\n",
            "Preparing to unpack .../swig4.0_4.0.2-1ubuntu1_amd64.deb ...\n",
            "Unpacking swig4.0 (4.0.2-1ubuntu1) ...\n",
            "Selecting previously unselected package swig.\n",
            "Preparing to unpack .../swig_4.0.2-1ubuntu1_all.deb ...\n",
            "Unpacking swig (4.0.2-1ubuntu1) ...\n",
            "Setting up swig4.0 (4.0.2-1ubuntu1) ...\n",
            "Setting up swig (4.0.2-1ubuntu1) ...\n",
            "Processing triggers for man-db (2.10.2-1) ...\n",
            "Requirement already satisfied: gymnasium[box2d] in /usr/local/lib/python3.10/dist-packages (0.29.1)\n",
            "Requirement already satisfied: numpy>=1.21.0 in /usr/local/lib/python3.10/dist-packages (from gymnasium[box2d]) (1.25.2)\n",
            "Requirement already satisfied: cloudpickle>=1.2.0 in /usr/local/lib/python3.10/dist-packages (from gymnasium[box2d]) (2.2.1)\n",
            "Requirement already satisfied: typing-extensions>=4.3.0 in /usr/local/lib/python3.10/dist-packages (from gymnasium[box2d]) (4.12.2)\n",
            "Requirement already satisfied: farama-notifications>=0.0.1 in /usr/local/lib/python3.10/dist-packages (from gymnasium[box2d]) (0.0.4)\n",
            "Collecting box2d-py==2.3.5 (from gymnasium[box2d])\n",
            "  Downloading box2d-py-2.3.5.tar.gz (374 kB)\n",
            "\u001b[2K     \u001b[90m━━━━━━━━━━━━━━━━━━━━━━━━━━━━━━━━━━━━━━━━\u001b[0m \u001b[32m374.4/374.4 kB\u001b[0m \u001b[31m4.9 MB/s\u001b[0m eta \u001b[36m0:00:00\u001b[0m\n",
            "\u001b[?25h  Preparing metadata (setup.py) ... \u001b[?25l\u001b[?25hdone\n",
            "Requirement already satisfied: pygame>=2.1.3 in /usr/local/lib/python3.10/dist-packages (from gymnasium[box2d]) (2.6.0)\n",
            "Collecting swig==4.* (from gymnasium[box2d])\n",
            "  Downloading swig-4.2.1-py2.py3-none-manylinux_2_5_x86_64.manylinux1_x86_64.whl (1.9 MB)\n",
            "\u001b[2K     \u001b[90m━━━━━━━━━━━━━━━━━━━━━━━━━━━━━━━━━━━━━━━━\u001b[0m \u001b[32m1.9/1.9 MB\u001b[0m \u001b[31m2.9 MB/s\u001b[0m eta \u001b[36m0:00:00\u001b[0m\n",
            "\u001b[?25hBuilding wheels for collected packages: box2d-py\n",
            "  Building wheel for box2d-py (setup.py) ... \u001b[?25l\u001b[?25hdone\n",
            "  Created wheel for box2d-py: filename=box2d_py-2.3.5-cp310-cp310-linux_x86_64.whl size=2349145 sha256=534366cf2934803d4cbea4bd0dc30930833e17189094164380fb2089b8fc3a24\n",
            "  Stored in directory: /root/.cache/pip/wheels/db/8f/6a/eaaadf056fba10a98d986f6dce954e6201ba3126926fc5ad9e\n",
            "Successfully built box2d-py\n",
            "Installing collected packages: swig, box2d-py\n",
            "Successfully installed box2d-py-2.3.5 swig-4.2.1\n"
          ]
        }
      ]
    },
    {
      "cell_type": "markdown",
      "source": [
        "## Installing Libraries"
      ],
      "metadata": {
        "id": "VBgyj71QzaqH"
      }
    },
    {
      "cell_type": "code",
      "execution_count": null,
      "metadata": {
        "id": "ImKMwvsoVCSo"
      },
      "outputs": [],
      "source": [
        "import os\n",
        "import random\n",
        "import numpy as np\n",
        "import torch\n",
        "import torch.optim as optim\n",
        "import torch.nn as nn\n",
        "import torch.nn.functional as F  ## Contains Activation Function\n",
        "import torch.autograd as autograd  # For automatic Computing Gradient\n",
        "from torch.autograd import Variable # For doing Automatic Differentiation\n",
        "from collections import deque, namedtuple # Double Ended Queue , Tuple"
      ]
    },
    {
      "cell_type": "markdown",
      "source": [
        "## Part - 1 Building AI"
      ],
      "metadata": {
        "id": "Stdyn49N28MU"
      }
    },
    {
      "cell_type": "markdown",
      "source": [
        "## Creating the Architecture of the Neural Network"
      ],
      "metadata": {
        "id": "tRgSTE1Z2_5N"
      }
    },
    {
      "cell_type": "code",
      "source": [
        "class Network(nn.Module):\n",
        "\n",
        "  def __init__(self, state_size, action_size, seed = 42):\n",
        "    super(Network,self).__init__()\n",
        "    self.seed = torch.manual_seed(seed)\n",
        "    self.fc1 = nn.Linear(state_size , 64) # fc1 = first fully connected layer\n",
        "    self.fc2 = nn.Linear(64,64)  # Second fully connected layer\n",
        "    self.fc3 = nn.Linear(64,action_size)  # Third fully connected layer\n",
        "\n",
        "  def forward(self,state):\n",
        "    x = self.fc1(state)\n",
        "    x = F.relu(x)\n",
        "    x = self.fc2(x)\n",
        "    x = F.relu(x)\n",
        "    return self.fc3(x)"
      ],
      "metadata": {
        "id": "qd0BrrKZz-A7"
      },
      "execution_count": null,
      "outputs": []
    },
    {
      "cell_type": "markdown",
      "source": [
        "## Part - 2 Training AI"
      ],
      "metadata": {
        "id": "_-0wewE-AN02"
      }
    },
    {
      "cell_type": "markdown",
      "source": [
        "## Setting up the Environment"
      ],
      "metadata": {
        "id": "5mjbDHfNiK-O"
      }
    },
    {
      "cell_type": "code",
      "source": [
        "import gymnasium as gym\n",
        "env = gym.make('LunarLander-v2')\n",
        "state_shape = env.observation_space.shape\n",
        "state_size = env.observation_space.shape[0]\n",
        "number_actions = env.action_space.n\n",
        "print('State shape: ', state_shape)\n",
        "print('State size:', state_size)\n",
        "print('Number of actions: ', number_actions)"
      ],
      "metadata": {
        "id": "FHJnIu2FAQE6",
        "colab": {
          "base_uri": "https://localhost:8080/"
        },
        "outputId": "eb141e66-f255-496a-8750-bbbf96d6aab7"
      },
      "execution_count": null,
      "outputs": [
        {
          "output_type": "stream",
          "name": "stdout",
          "text": [
            "State shape:  (8,)\n",
            "State size: 8\n",
            "Number of actions:  4\n"
          ]
        }
      ]
    },
    {
      "cell_type": "markdown",
      "source": [
        "## Initializing the Hyperparameters"
      ],
      "metadata": {
        "id": "n7paAC6jkUCr"
      }
    },
    {
      "cell_type": "code",
      "source": [
        "learning_rate = 5e-4 # (It will learn itself)\n",
        "minibatch_size = 64 # (Determines how many samples can be processed at a time)\n",
        "discount_factor = 0.99 # gamma (Nakki karse reward apvo ke nai)\n",
        "reply_buffer_size = int(1e5)  # (Capacity) -> (it will store experiences like action,state,reward)\n",
        "interpolation_parameter = 1e-3 ## Function Approximation karse aa"
      ],
      "metadata": {
        "id": "f2rEw9IZjDSV",
        "colab": {
          "base_uri": "https://localhost:8080/"
        },
        "outputId": "04b05ba0-2aa6-4a77-9e58-21da1564232b"
      },
      "execution_count": null,
      "outputs": [
        {
          "output_type": "stream",
          "name": "stderr",
          "text": [
            "/usr/local/lib/python3.10/dist-packages/ipykernel/ipkernel.py:283: DeprecationWarning: `should_run_async` will not call `transform_cell` automatically in the future. Please pass the result to `transformed_cell` argument and any exception that happen during thetransform in `preprocessing_exc_tuple` in IPython 7.17 and above.\n",
            "  and should_run_async(code)\n"
          ]
        }
      ]
    },
    {
      "cell_type": "markdown",
      "source": [
        "## Implementing Experience Replay"
      ],
      "metadata": {
        "id": "5Ls-ZXJ_tAXH"
      }
    },
    {
      "cell_type": "code",
      "source": [
        "class ReplyMemory(object):\n",
        "\n",
        "  def __init__(self,capacity):\n",
        "    self.device = torch.device(\"cuda:0\" if torch.cuda.is_available() else \"cpu\")\n",
        "    self.capacity = capacity ## Maximum number of Experineces that memory can store\n",
        "    self.memory = [] ## Initialize an empty list for storing the Experience\n",
        "\n",
        "  def push(self, event):\n",
        "    self.memory.append(event)\n",
        "    if len(self.memory) > self.capacity: ## Must ::>> len(Capacity) > len(Memory)\n",
        "      del self.memory[0]\n",
        "\n",
        "  def sample(self,batch_size):\n",
        "    if len(self.memory) < batch_size: ## Must ::>> memory(size) > batch_size\n",
        "      return None\n",
        "    experiences = random.sample(self.memory, k = batch_size)\n",
        "    states = torch.from_numpy(np.vstack([e[0] for e in experiences if e is not None])).float().to(self.device)\n",
        "    actions = torch.from_numpy(np.vstack([e[1] for e in experiences if e is not None])).long().to(self.device)\n",
        "    rewards = torch.from_numpy(np.vstack([e[2] for e in experiences if e is not None])).float().to(self.device)\n",
        "    next_states = torch.from_numpy(np.vstack([e[3] for e in experiences if e is not None])).float().to(self.device)\n",
        "    dones = torch.tensor(np.vstack([e[4] for e in experiences if e is not None]), dtype=torch.uint8).to(self.device) ## It will use 8 bit per element copare to np.floate 32 or np.float64\n",
        "    return states, actions, rewards, next_states, dones"
      ],
      "metadata": {
        "id": "MEH3CVATtDeH"
      },
      "execution_count": null,
      "outputs": []
    },
    {
      "cell_type": "markdown",
      "source": [
        "## Implementing DQN class"
      ],
      "metadata": {
        "id": "dPKxDAljuko7"
      }
    },
    {
      "cell_type": "code",
      "source": [
        "class Agent():\n",
        "\n",
        "  def __init__(self,state_size,action_size):\n",
        "    self.device = torch.device(\"cudo:0\" if torch.cuda.is_available() else \"cpu\")\n",
        "    self.state_size = state_size\n",
        "    self.action_size = action_size\n",
        "    self.local_qnetwork = Network(state_size,action_size).to(self.device)  # Represents local Q_network which will be updates frequently during training and it will predict the Q-values\n",
        "    self.target_qnetwork = Network(state_size,action_size).to(self.device) # represents Target Q-network which will less updates and helps to stabilize the learning process\n",
        "    self.optimizer = optim.Adam(self.local_qnetwork.parameters(), lr = learning_rate)  # optimize the parameters\n",
        "    self.memory = ReplyMemory(reply_buffer_size) # reply_buffer_size defines maximum capacity of the reply buffer\n",
        "    self.t_step = 0 # (Counter will counts at which moment we to learn)\n",
        "\n",
        "  def step(self, state, next_state, action, reward, done):\n",
        "    self.memory.push((state, action, reward, next_state, done))\n",
        "    self.t_steps = (self.t_step + 1) % 4\n",
        "    if self.t_step == 0 :\n",
        "      if len(self.memory.memory) > minibatch_size:\n",
        "        experiences = self.memory.sample(minibatch_size)\n",
        "        self.learn(experiences, discount_factor) ## (Gamma = discount_factor)\n",
        "\n",
        "  def act(self,state, epsilon = 0.):\n",
        "      state = torch.from_numpy(state).float().unsqueeze(0).to(self.device) ## unsqueeze adds a batch dimensions to the tensor making it for processing a single state\n",
        "      self.local_qnetwork.eval()  ## states the Q-network to the evaluation mode\n",
        "      with torch.no_grad(): # Any gradient computation will be diabled (improves eficiency)\n",
        "        action_values = self.local_qnetwork(state)\n",
        "      self.local_qnetwork.train()\n",
        "      if random.random() > epsilon:\n",
        "        return np.argmax(action_values.cpu().data.numpy())  # Select action with the higest Q-value\n",
        "      else:\n",
        "        return random.choice(np.arange(self.action_size))\n",
        "\n",
        "  def learn(self, experiences, discount_factor):\n",
        "    states, actions, rewards, next_states, dones = experiences\n",
        "    next_q_target = self.target_qnetwork(next_states).detach().max(1)[0].unsqueeze(1)\n",
        "    q_target = rewards + (discount_factor * next_q_target * (1-dones))\n",
        "    q_expected = self.local_qnetwork(states).gather(1, actions)\n",
        "    loss = F.mse_loss(q_expected, q_target)\n",
        "    self.optimizer.zero_grad()\n",
        "    loss.backward()\n",
        "    self.optimizer.step()\n",
        "    self.soft_update(self.local_qnetwork, self.target_qnetwork, interpolation_parameter)\n",
        "\n",
        "  def soft_update(self, local_model, target_model, interpolation_parameter):\n",
        "    for target_param, local_param in zip(target_model.parameters(), local_model.parameters()):\n",
        "      target_param.data.copy_(interpolation_parameter * local_param.data + (1.0 - interpolation_parameter) * target_param.data)"
      ],
      "metadata": {
        "id": "FUSbM33owEdp"
      },
      "execution_count": null,
      "outputs": []
    },
    {
      "cell_type": "markdown",
      "source": [
        "## Initialiazing  DQN agent"
      ],
      "metadata": {
        "id": "NGsgvPNAj_v5"
      }
    },
    {
      "cell_type": "code",
      "source": [
        "agent = Agent(state_size, number_actions)"
      ],
      "metadata": {
        "id": "yLFdj8QpkBwK"
      },
      "execution_count": null,
      "outputs": []
    },
    {
      "cell_type": "markdown",
      "source": [
        "## Training the DQN agent"
      ],
      "metadata": {
        "id": "Vx5wOI1Ak3-5"
      }
    },
    {
      "cell_type": "code",
      "source": [
        "number_episodes = 100\n",
        "maximum_number_timesteps_per_episode = 1000\n",
        "epsilon_starting_value = 1.0\n",
        "epsilon_ending_value = 0.01\n",
        "epsilon_decay_value = 0.995\n",
        "epsilon = epsilon_starting_value\n",
        "scores_on_100_episodes = deque(maxlen = 100)\n",
        "\n",
        "for episodes in range(1, number_episodes + 1):\n",
        "  state, _ = env.reset()\n",
        "  score = 0\n",
        "  for t in range(maximum_number_timesteps_per_episode):\n",
        "    action = agent.act(state, epsilon)\n",
        "    next_state, reward, done, _, _  = env.step(action)\n",
        "    agent.step(state, next_state, action, reward, done)\n",
        "    state = next_state\n",
        "    score += reward\n",
        "    if done:\n",
        "      break\n",
        "  scores_on_100_episodes.append(score)\n",
        "  epsilon = max(epsilon_ending_value, epsilon_decay_value * epsilon)\n",
        "  print('\\rEpisode {}\\tAverage Score: {:.2f}'.format(episodes,np.mean(scores_on_100_episodes)), end = \"\" )\n",
        "  if episodes % 100 == 0:\n",
        "    print('\\rEpisode {}\\tAverage Score: {:.2f}'.format(episodes, np.mean(scores_on_100_episodes)))\n",
        "  if np.mean(scores_on_100_episodes) >= 300.0:\n",
        "    print('\\nEnvironment solved in {:d} episodes!\\tAverage Score: {:.2f}'.format(episodes - 100, np.mean(scores_on_100_episodes)))\n",
        "    torch.save(agent.local_qnetwork.state_dict(), 'checkpoint.pth')\n",
        "    break"
      ],
      "metadata": {
        "id": "lS7guEL1khlA",
        "colab": {
          "base_uri": "https://localhost:8080/"
        },
        "outputId": "bca4d2d0-8516-43fa-daea-2533c068f814"
      },
      "execution_count": null,
      "outputs": [
        {
          "output_type": "stream",
          "name": "stdout",
          "text": [
            "Episode 100\tAverage Score: -101.15\n",
            "Episode 200\tAverage Score: -39.96\n",
            "Episode 300\tAverage Score: 28.31\n",
            "Episode 400\tAverage Score: 92.85\n",
            "Episode 500\tAverage Score: 230.66\n",
            "Episode 600\tAverage Score: 270.91\n",
            "Episode 700\tAverage Score: 259.82\n",
            "Episode 800\tAverage Score: 245.57\n",
            "Episode 900\tAverage Score: 269.52\n",
            "Episode 1000\tAverage Score: 258.00\n",
            "Episode 1100\tAverage Score: 245.42\n",
            "Episode 1200\tAverage Score: 268.31\n",
            "Episode 1300\tAverage Score: 274.99\n",
            "Episode 1400\tAverage Score: 275.53\n",
            "Episode 1500\tAverage Score: 269.18\n",
            "Episode 1600\tAverage Score: 276.73\n",
            "Episode 1700\tAverage Score: 269.77\n",
            "Episode 1800\tAverage Score: 274.53\n",
            "Episode 1900\tAverage Score: 247.17\n",
            "Episode 2000\tAverage Score: 257.19\n",
            "Episode 2100\tAverage Score: 257.62\n",
            "Episode 2200\tAverage Score: 261.72\n",
            "Episode 2300\tAverage Score: 234.01\n",
            "Episode 2400\tAverage Score: 254.30\n",
            "Episode 2500\tAverage Score: 255.38\n",
            "Episode 2600\tAverage Score: 255.56\n",
            "Episode 2700\tAverage Score: 253.56\n",
            "Episode 2800\tAverage Score: 270.46\n",
            "Episode 2900\tAverage Score: 272.27\n",
            "Episode 3000\tAverage Score: 261.90\n"
          ]
        }
      ]
    },
    {
      "cell_type": "markdown",
      "source": [
        "## Part - 3 Visualizing the results"
      ],
      "metadata": {
        "id": "57M6oL3_VOtJ"
      }
    },
    {
      "cell_type": "code",
      "source": [
        "import glob\n",
        "import io\n",
        "import base64\n",
        "import imageio\n",
        "from IPython.display import HTML, display\n",
        "from gym.wrappers.monitoring.video_recorder import VideoRecorder\n",
        "\n",
        "def show_video_of_model(agent, env_name):\n",
        "  env = gym.make(env_name, render_mode='rgb_array')\n",
        "  state, _ = env. reset ()\n",
        "  done = False\n",
        "  Frames = []\n",
        "  while not done:\n",
        "    Frame = env.render()\n",
        "    Frames.append(Frame)\n",
        "    action = agent.act(state)\n",
        "    state, reward, done, _,_ = env.step(action.item())\n",
        "  env.close()\n",
        "  imageio.mimsave('video.mp4', Frames, fps=30)\n",
        "\n",
        "show_video_of_model(agent,'LunarLander-v2')\n",
        "\n",
        "def show_video():\n",
        "  mp4list = glob.glob('*.mp4')\n",
        "  if len(mp4list)>0:\n",
        "    mp4 = mp4list[0]\n",
        "    video = io.open(mp4, 'r+b').read()\n",
        "    encoded = base64.b64encode(video)\n",
        "    display(HTML(data='''<video alt=\"test\" autoplay\n",
        "            loop controls style=\"height: 400px;\">\n",
        "            <source src=\"data:video/mp4;base64,{0}\" type=\"video/mp4\" />\n",
        "            </video>'''.format(encoded.decode('ascii'))))\n",
        "  else:\n",
        "    print(\"Could not find video\")\n",
        "\n",
        "show_video()"
      ],
      "metadata": {
        "id": "-kbCm4PV1ebW",
        "colab": {
          "base_uri": "https://localhost:8080/",
          "height": 459
        },
        "outputId": "07838d60-5632-4913-cf9f-6b1d37131dcf"
      },
      "execution_count": null,
      "outputs": [
        {
          "output_type": "stream",
          "name": "stderr",
          "text": [
            "WARNING:imageio_ffmpeg:IMAGEIO FFMPEG_WRITER WARNING: input image is not divisible by macro_block_size=16, resizing from (600, 400) to (608, 400) to ensure video compatibility with most codecs and players. To prevent resizing, make your input image divisible by the macro_block_size or set the macro_block_size to 1 (risking incompatibility).\n"
          ]
        },
        {
          "output_type": "display_data",
          "data": {
            "text/plain": [
              "<IPython.core.display.HTML object>"
            ],
            "text/html": [
              "<video alt=\"test\" autoplay\n",
              "            loop controls style=\"height: 400px;\">\n",
              "            <source src=\"data:video/mp4;base64,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\" type=\"video/mp4\" />\n",
              "            </video>"
            ]
          },
          "metadata": {}
        }
      ]
    },
    {
      "cell_type": "code",
      "source": [],
      "metadata": {
        "id": "cta7naeMXPGC"
      },
      "execution_count": null,
      "outputs": []
    }
  ]
}